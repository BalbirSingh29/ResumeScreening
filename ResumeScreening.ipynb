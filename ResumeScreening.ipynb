{
  "nbformat": 4,
  "nbformat_minor": 0,
  "metadata": {
    "colab": {
      "name": "ResumeScreening.ipynb",
      "provenance": []
    },
    "kernelspec": {
      "name": "python3",
      "display_name": "Python 3"
    },
    "language_info": {
      "name": "python"
    }
  },
  "cells": [
    {
      "cell_type": "code",
      "metadata": {
        "id": "iRZKkRg1q1eg"
      },
      "source": [
        "import pandas as pd\n",
        "import numpy as np\n"
      ],
      "execution_count": 21,
      "outputs": []
    },
    {
      "cell_type": "markdown",
      "metadata": {
        "id": "s9lWbPaurZwx"
      },
      "source": [
        "# Data Used\n",
        "I have used publically available data from Kaggle.\n",
        "https://www.kaggle.com/gauravduttakiit/resume-dataset\n"
      ]
    },
    {
      "cell_type": "code",
      "metadata": {
        "id": "5WsSVyAIq9aT"
      },
      "source": [
        "df = pd.read_csv('/content/drive/MyDrive/deepLearning/ResumeScreening/UpdatedResumeDataSet.csv')"
      ],
      "execution_count": 22,
      "outputs": []
    },
    {
      "cell_type": "markdown",
      "metadata": {
        "id": "WqPd7xaUrv2h"
      },
      "source": [
        "# Exploratory Data Analysis\n",
        "Let's have a quick view of the Data we have"
      ]
    },
    {
      "cell_type": "code",
      "metadata": {
        "colab": {
          "base_uri": "https://localhost:8080/",
          "height": 204
        },
        "id": "7Kzh4or7rR0W",
        "outputId": "032dbaa5-a413-429a-c34c-990141816495"
      },
      "source": [
        "df.head()"
      ],
      "execution_count": 24,
      "outputs": [
        {
          "output_type": "execute_result",
          "data": {
            "text/html": [
              "<div>\n",
              "<style scoped>\n",
              "    .dataframe tbody tr th:only-of-type {\n",
              "        vertical-align: middle;\n",
              "    }\n",
              "\n",
              "    .dataframe tbody tr th {\n",
              "        vertical-align: top;\n",
              "    }\n",
              "\n",
              "    .dataframe thead th {\n",
              "        text-align: right;\n",
              "    }\n",
              "</style>\n",
              "<table border=\"1\" class=\"dataframe\">\n",
              "  <thead>\n",
              "    <tr style=\"text-align: right;\">\n",
              "      <th></th>\n",
              "      <th>Category</th>\n",
              "      <th>Resume</th>\n",
              "    </tr>\n",
              "  </thead>\n",
              "  <tbody>\n",
              "    <tr>\n",
              "      <th>0</th>\n",
              "      <td>Data Science</td>\n",
              "      <td>Skills * Programming Languages: Python (pandas...</td>\n",
              "    </tr>\n",
              "    <tr>\n",
              "      <th>1</th>\n",
              "      <td>Data Science</td>\n",
              "      <td>Education Details \\r\\nMay 2013 to May 2017 B.E...</td>\n",
              "    </tr>\n",
              "    <tr>\n",
              "      <th>2</th>\n",
              "      <td>Data Science</td>\n",
              "      <td>Areas of Interest Deep Learning, Control Syste...</td>\n",
              "    </tr>\n",
              "    <tr>\n",
              "      <th>3</th>\n",
              "      <td>Data Science</td>\n",
              "      <td>Skills â¢ R â¢ Python â¢ SAP HANA â¢ Table...</td>\n",
              "    </tr>\n",
              "    <tr>\n",
              "      <th>4</th>\n",
              "      <td>Data Science</td>\n",
              "      <td>Education Details \\r\\n MCA   YMCAUST,  Faridab...</td>\n",
              "    </tr>\n",
              "  </tbody>\n",
              "</table>\n",
              "</div>"
            ],
            "text/plain": [
              "       Category                                             Resume\n",
              "0  Data Science  Skills * Programming Languages: Python (pandas...\n",
              "1  Data Science  Education Details \\r\\nMay 2013 to May 2017 B.E...\n",
              "2  Data Science  Areas of Interest Deep Learning, Control Syste...\n",
              "3  Data Science  Skills â¢ R â¢ Python â¢ SAP HANA â¢ Table...\n",
              "4  Data Science  Education Details \\r\\n MCA   YMCAUST,  Faridab..."
            ]
          },
          "metadata": {},
          "execution_count": 24
        }
      ]
    },
    {
      "cell_type": "code",
      "metadata": {
        "colab": {
          "base_uri": "https://localhost:8080/"
        },
        "id": "CXgvo8dBrS2b",
        "outputId": "9677d79b-4ff4-4981-f3bf-daebc97aac86"
      },
      "source": [
        "df.shape"
      ],
      "execution_count": 25,
      "outputs": [
        {
          "output_type": "execute_result",
          "data": {
            "text/plain": [
              "(962, 2)"
            ]
          },
          "metadata": {},
          "execution_count": 25
        }
      ]
    },
    {
      "cell_type": "markdown",
      "metadata": {
        "id": "gRDODF0OsBvo"
      },
      "source": [
        "There are 962 observations we have in the data. Each observation represents the complete details of each candidate so we have 962 resumes for screening."
      ]
    },
    {
      "cell_type": "markdown",
      "metadata": {
        "id": "4LYlRMRyscGH"
      },
      "source": [
        "# Data Preprocessing\n",
        "# 1.Cleaning the 'Resume' Column\n",
        "Removing unnecessary information from resumes like URLs, hashtags, and special characters.\n"
      ]
    },
    {
      "cell_type": "code",
      "metadata": {
        "id": "yFWSSX73r9Gf"
      },
      "source": [
        "import re"
      ],
      "execution_count": 26,
      "outputs": []
    },
    {
      "cell_type": "code",
      "metadata": {
        "id": "tsAGYfv_s1gH"
      },
      "source": [
        "def cleanResume(resumeText):\n",
        "    resumeText = re.sub('httpS+s*', ' ', resumeText)  # remove URLs\n",
        "    resumeText = re.sub('RT|cc', ' ', resumeText)  # remove RT and cc\n",
        "    resumeText = re.sub('#S+', '', resumeText)  # remove hashtags\n",
        "    resumeText = re.sub('@S+', '  ', resumeText)  # remove mentions\n",
        "    resumeText = re.sub('[%s]' % re.escape(\"\"\"!\"#$%&'()*+,-./:;<=>?@[]^_`{|}~\"\"\"), ' ', resumeText)  # remove punctuations\n",
        "    resumeText = re.sub(r'[^x00-x7f]',r' ', resumeText) \n",
        "    resumeText = re.sub('s+', ' ', resumeText)  # remove extra whitespace\n",
        "    return resumeText\n",
        "df['cleaned_resume'] = df.Resume.apply(lambda x: cleanResume(x))\n",
        "\n"
      ],
      "execution_count": 27,
      "outputs": []
    },
    {
      "cell_type": "code",
      "metadata": {
        "colab": {
          "base_uri": "https://localhost:8080/",
          "height": 288
        },
        "id": "dYUzhIhCtrZe",
        "outputId": "c5d2ab3c-8e00-4a6d-ca2e-8ce53279de7b"
      },
      "source": [
        "df.head()"
      ],
      "execution_count": 28,
      "outputs": [
        {
          "output_type": "execute_result",
          "data": {
            "text/html": [
              "<div>\n",
              "<style scoped>\n",
              "    .dataframe tbody tr th:only-of-type {\n",
              "        vertical-align: middle;\n",
              "    }\n",
              "\n",
              "    .dataframe tbody tr th {\n",
              "        vertical-align: top;\n",
              "    }\n",
              "\n",
              "    .dataframe thead th {\n",
              "        text-align: right;\n",
              "    }\n",
              "</style>\n",
              "<table border=\"1\" class=\"dataframe\">\n",
              "  <thead>\n",
              "    <tr style=\"text-align: right;\">\n",
              "      <th></th>\n",
              "      <th>Category</th>\n",
              "      <th>Resume</th>\n",
              "      <th>cleaned_resume</th>\n",
              "    </tr>\n",
              "  </thead>\n",
              "  <tbody>\n",
              "    <tr>\n",
              "      <th>0</th>\n",
              "      <td>Data Science</td>\n",
              "      <td>Skills * Programming Languages: Python (pandas...</td>\n",
              "      <td>Skill    Programming Language   P thon  panda ...</td>\n",
              "    </tr>\n",
              "    <tr>\n",
              "      <th>1</th>\n",
              "      <td>Data Science</td>\n",
              "      <td>Education Details \\r\\nMay 2013 to May 2017 B.E...</td>\n",
              "      <td>Education Detail    Ma  2013 to Ma  2017 B E  ...</td>\n",
              "    </tr>\n",
              "    <tr>\n",
              "      <th>2</th>\n",
              "      <td>Data Science</td>\n",
              "      <td>Areas of Interest Deep Learning, Control Syste...</td>\n",
              "      <td>Area  of Intere t Deep Learning  Control S  te...</td>\n",
              "    </tr>\n",
              "    <tr>\n",
              "      <th>3</th>\n",
              "      <td>Data Science</td>\n",
              "      <td>Skills â¢ R â¢ Python â¢ SAP HANA â¢ Table...</td>\n",
              "      <td>Skill      R     P thon     SAP HANA     Table...</td>\n",
              "    </tr>\n",
              "    <tr>\n",
              "      <th>4</th>\n",
              "      <td>Data Science</td>\n",
              "      <td>Education Details \\r\\n MCA   YMCAUST,  Faridab...</td>\n",
              "      <td>Education Detail     MCA   YMCAUST   Faridabad...</td>\n",
              "    </tr>\n",
              "  </tbody>\n",
              "</table>\n",
              "</div>"
            ],
            "text/plain": [
              "       Category  ...                                     cleaned_resume\n",
              "0  Data Science  ...  Skill    Programming Language   P thon  panda ...\n",
              "1  Data Science  ...  Education Detail    Ma  2013 to Ma  2017 B E  ...\n",
              "2  Data Science  ...  Area  of Intere t Deep Learning  Control S  te...\n",
              "3  Data Science  ...  Skill      R     P thon     SAP HANA     Table...\n",
              "4  Data Science  ...  Education Detail     MCA   YMCAUST   Faridabad...\n",
              "\n",
              "[5 rows x 3 columns]"
            ]
          },
          "metadata": {},
          "execution_count": 28
        }
      ]
    },
    {
      "cell_type": "markdown",
      "metadata": {
        "id": "Y16xNyxJt00B"
      },
      "source": [
        "# 2.Encoding 'Category'\n",
        "Now, encoding the 'Category' column using LabelEncoding. Even though the 'Category' column is 'Nominal' data we are using LabelEncoder because the 'Category' column is our 'target' column. By performing LabelEncoding each category will become a class and we will be building a multiclass classification model."
      ]
    },
    {
      "cell_type": "code",
      "metadata": {
        "id": "i6YxEaDAts4H"
      },
      "source": [
        "from sklearn.preprocessing import LabelEncoder\n",
        "var_mod = ['Category']\n",
        "le = LabelEncoder()\n",
        "for i in var_mod:\n",
        "    df[i] = le.fit_transform(df[i])"
      ],
      "execution_count": 29,
      "outputs": []
    },
    {
      "cell_type": "markdown",
      "metadata": {
        "id": "9RSr3v4bu4Gw"
      },
      "source": [
        "# 3. Preprocessing 'cleaned_resume' column\n",
        "Converting the 'cleaned_resume' column into vectors. There are many ways to do that like 'Bag of Words','Tf-Idf','Word2Vec' and combination of these methods.\n",
        "\n",
        "I will use 'Tf-Idf' method to get the vectors in this approach."
      ]
    },
    {
      "cell_type": "code",
      "metadata": {
        "id": "8NvGgA2FuubH"
      },
      "source": [
        "from sklearn.feature_extraction.text import TfidfVectorizer\n",
        "requiredText = df['cleaned_resume'].values\n",
        "requiredTarget = df['Category'].values\n",
        "word_vectorizer = TfidfVectorizer(\n",
        "    sublinear_tf= True,\n",
        "    stop_words ='english',\n",
        "    max_features = 1500\n",
        ")\n",
        "word_vectorizer.fit(requiredText)\n",
        "WordFeatures = word_vectorizer.transform(requiredText)"
      ],
      "execution_count": 30,
      "outputs": []
    },
    {
      "cell_type": "markdown",
      "metadata": {
        "id": "bOhuBD_5XMz4"
      },
      "source": [
        "# Building Model\n",
        "I will use 'One vs Rest' method with 'KNeighborsClassifier' to build this multiclass classification model.\n",
        "\n",
        "Using 80% data for training and 20% data for validation. Let's split the data now into training and test set."
      ]
    },
    {
      "cell_type": "code",
      "metadata": {
        "id": "WWh86enyXI6a"
      },
      "source": [
        "from sklearn.model_selection import train_test_split\n",
        "X_train,X_test,y_train,y_test = train_test_split(WordFeatures,\n",
        "                                                 requiredTarget, \n",
        "                                                 random_state=0,\n",
        "                                                 test_size=0.2)"
      ],
      "execution_count": 31,
      "outputs": []
    },
    {
      "cell_type": "code",
      "metadata": {
        "colab": {
          "base_uri": "https://localhost:8080/"
        },
        "id": "xiSBvvLAYEcj",
        "outputId": "115176d7-8863-426c-ba42-6fd51ddd7e55"
      },
      "source": [
        "print(X_train.shape)"
      ],
      "execution_count": 32,
      "outputs": [
        {
          "output_type": "stream",
          "name": "stdout",
          "text": [
            "(769, 1500)\n"
          ]
        }
      ]
    },
    {
      "cell_type": "code",
      "metadata": {
        "colab": {
          "base_uri": "https://localhost:8080/"
        },
        "id": "qD6nKGmGYIZX",
        "outputId": "4deba362-10e5-4dc8-e6ff-e694c32f3cec"
      },
      "source": [
        "print(X_test.shape)"
      ],
      "execution_count": 33,
      "outputs": [
        {
          "output_type": "stream",
          "name": "stdout",
          "text": [
            "(193, 1500)\n"
          ]
        }
      ]
    },
    {
      "cell_type": "code",
      "metadata": {
        "id": "AaAaFW0vYKcd"
      },
      "source": [
        "from sklearn.multiclass import OneVsRestClassifier\n",
        "from sklearn.neighbors import KNeighborsClassifier\n",
        "clf  = OneVsRestClassifier(KNeighborsClassifier())\n",
        "clf.fit(X_train,y_train)\n",
        "prediction = clf.predict(X_test)"
      ],
      "execution_count": 34,
      "outputs": []
    },
    {
      "cell_type": "markdown",
      "metadata": {
        "id": "Cf1JMV7RYxiS"
      },
      "source": [
        "# Results\n",
        "Let's see the results\n"
      ]
    },
    {
      "cell_type": "code",
      "metadata": {
        "colab": {
          "base_uri": "https://localhost:8080/"
        },
        "id": "G_MWlAbqYuFy",
        "outputId": "9b623dd3-de33-446e-b1d0-e7421c54a821"
      },
      "source": [
        "print('Accuracy of KNeighbors Classifier on training set: {:.2f}'.format(clf.score(X_train, y_train)))\n",
        "print('Accuracy of KNeighbors Classifier on test set: {:.2f}'.format(clf.score(X_test, y_test)))\n"
      ],
      "execution_count": 35,
      "outputs": [
        {
          "output_type": "stream",
          "name": "stdout",
          "text": [
            "Accuracy of KNeighbors Classifier on training set: 0.99\n",
            "Accuracy of KNeighbors Classifier on test set: 0.99\n"
          ]
        }
      ]
    },
    {
      "cell_type": "markdown",
      "metadata": {
        "id": "5p4HsNuHZDBh"
      },
      "source": [
        "We can see that results are awesome. We are able to classify each Category of a given resume with 99% accuracy.\n",
        "\n",
        "Checking the detailed classification report for each class or category.\n"
      ]
    },
    {
      "cell_type": "code",
      "metadata": {
        "colab": {
          "base_uri": "https://localhost:8080/"
        },
        "id": "NIdHas6lY_41",
        "outputId": "e773c5ba-1564-4a43-f407-3a2d65a21ac3"
      },
      "source": [
        "from sklearn.metrics import classification_report\n",
        "print(classification_report(y_test,prediction))"
      ],
      "execution_count": 36,
      "outputs": [
        {
          "output_type": "stream",
          "name": "stdout",
          "text": [
            "              precision    recall  f1-score   support\n",
            "\n",
            "           0       1.00      1.00      1.00         3\n",
            "           1       1.00      1.00      1.00         3\n",
            "           2       1.00      0.80      0.89         5\n",
            "           3       1.00      1.00      1.00         9\n",
            "           4       1.00      1.00      1.00         6\n",
            "           5       1.00      1.00      1.00         5\n",
            "           6       1.00      1.00      1.00         9\n",
            "           7       1.00      1.00      1.00         7\n",
            "           8       1.00      0.91      0.95        11\n",
            "           9       1.00      1.00      1.00         9\n",
            "          10       1.00      1.00      1.00         8\n",
            "          11       0.90      1.00      0.95         9\n",
            "          12       1.00      1.00      1.00         5\n",
            "          13       1.00      1.00      1.00         9\n",
            "          14       1.00      1.00      1.00         7\n",
            "          15       1.00      1.00      1.00        19\n",
            "          16       1.00      1.00      1.00         3\n",
            "          17       1.00      1.00      1.00         4\n",
            "          18       1.00      1.00      1.00         5\n",
            "          19       1.00      1.00      1.00         6\n",
            "          20       1.00      1.00      1.00        11\n",
            "          21       1.00      1.00      1.00         4\n",
            "          22       1.00      1.00      1.00        13\n",
            "          23       1.00      1.00      1.00        15\n",
            "          24       0.89      1.00      0.94         8\n",
            "\n",
            "    accuracy                           0.99       193\n",
            "   macro avg       0.99      0.99      0.99       193\n",
            "weighted avg       0.99      0.99      0.99       193\n",
            "\n"
          ]
        }
      ]
    },
    {
      "cell_type": "markdown",
      "metadata": {
        "id": "V6mchqWkZ0ws"
      },
      "source": [
        "Where 0,1,2... are the job categories. We get the actual labels from the label encoder that we used."
      ]
    },
    {
      "cell_type": "code",
      "metadata": {
        "colab": {
          "base_uri": "https://localhost:8080/"
        },
        "id": "IY2-3n7ZZCUx",
        "outputId": "ea112759-01bc-4105-d6cd-b18a1af78c68"
      },
      "source": [
        "le.classes_"
      ],
      "execution_count": 37,
      "outputs": [
        {
          "output_type": "execute_result",
          "data": {
            "text/plain": [
              "array(['Advocate', 'Arts', 'Automation Testing', 'Blockchain',\n",
              "       'Business Analyst', 'Civil Engineer', 'Data Science', 'Database',\n",
              "       'DevOps Engineer', 'DotNet Developer', 'ETL Developer',\n",
              "       'Electrical Engineering', 'HR', 'Hadoop', 'Health and fitness',\n",
              "       'Java Developer', 'Mechanical Engineer',\n",
              "       'Network Security Engineer', 'Operations Manager', 'PMO',\n",
              "       'Python Developer', 'SAP Developer', 'Sales', 'Testing',\n",
              "       'Web Designing'], dtype=object)"
            ]
          },
          "metadata": {},
          "execution_count": 37
        }
      ]
    },
    {
      "cell_type": "code",
      "metadata": {
        "id": "ZSjA3IMOaESI"
      },
      "source": [
        ""
      ],
      "execution_count": null,
      "outputs": []
    }
  ]
}